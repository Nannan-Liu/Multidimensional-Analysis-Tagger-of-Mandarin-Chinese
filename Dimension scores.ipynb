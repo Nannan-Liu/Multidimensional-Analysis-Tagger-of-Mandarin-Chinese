{
 "cells": [
  {
   "cell_type": "code",
   "execution_count": null,
   "metadata": {},
   "outputs": [],
   "source": [
    "#read linguistic features stats\n",
    "import pandas as pd\n",
    "import csv\n",
    "stats=pd.read_csv(\"your_path/linguistic_features.csv\", header=0, quoting=csv.QUOTE_NONE)\n",
    "stats.set_index('text', inplace=True)"
   ]
  },
  {
   "cell_type": "code",
   "execution_count": null,
   "metadata": {},
   "outputs": [],
   "source": [
    "text=stats.index.values"
   ]
  },
  {
   "cell_type": "code",
   "execution_count": null,
   "metadata": {},
   "outputs": [],
   "source": [
    "#standardisation\n",
    "from sklearn.preprocessing import StandardScaler\n",
    "stdsc = StandardScaler()\n",
    "stats_std = stdsc.fit_transform(stats)"
   ]
  },
  {
   "cell_type": "code",
   "execution_count": null,
   "metadata": {},
   "outputs": [],
   "source": [
    "import numpy\n",
    "numpy.savetxt(\"your_path/linguistic_features_stdstats.csv\", stats_std, delimiter=\",\")"
   ]
  },
  {
   "cell_type": "code",
   "execution_count": null,
   "metadata": {},
   "outputs": [],
   "source": [
    "#read standardised stats\n",
    "stats_std=pd.read_csv(\"your_path/linguistic_features_stdstats.csv\", header=list(stats), quoting=csv.QUOTE_NONE)\n",
    "stats_std.set_index('text', inplace=True)"
   ]
  },
  {
   "cell_type": "code",
   "execution_count": null,
   "metadata": {},
   "outputs": [],
   "source": [
    "text_list=list(stats_std.index.values)"
   ]
  },
  {
   "cell_type": "code",
   "execution_count": null,
   "metadata": {},
   "outputs": [],
   "source": [
    "def dimension1(text): \n",
    "    return stats.loc[text, 'question']+stats.loc[text, 'particle']+\\\n",
    "stats.loc[text, 'interrogative']+stats.loc[text, 'exclamation']\\\n",
    "+stats.loc[text, 'SPP']+stats.loc[text, 'WH']+stats.loc[text, 'PUBV']+\\\n",
    "stats.loc[text, 'mono_negation']+stats.loc[text, 'FPP']\\\n",
    "+stats.loc[text, 'honourifics']+stats.loc[text, 'INPR']\\\n",
    "+stats.loc[text, 'PRIV']+stats.loc[text, 'other_personal']\\\n",
    "+stats.loc[text, 'emotion']-stats.loc[text, 'classical_functional_words']"
   ]
  },
  {
   "cell_type": "code",
   "execution_count": null,
   "metadata": {},
   "outputs": [],
   "source": [
    "dimension1_scores=[]\n",
    "for text in text_list:\n",
    "    dimension1_scores.append(dimension1(text))"
   ]
  },
  {
   "cell_type": "code",
   "execution_count": null,
   "metadata": {},
   "outputs": [],
   "source": [
    "def dimension2(text): \n",
    "    return stats.loc[text, 'BE']+stats.loc[text, 'modify_adv']+\\\n",
    "stats.loc[text, 'COND']+stats.loc[text, 'RB']+\\\n",
    "stats.loc[text, 'EX']+stats.loc[text, 'DEMP']+\\\n",
    "stats.loc[text, 'AMP']+stats.loc[text, 'HDG']+\\\n",
    "stats.loc[text, 'DWNT']+stats.loc[text, 'di_negation']\\\n",
    "+stats.loc[text, 'HSK_1']+\\\n",
    "stats.loc[text, 'HSK_3']-stats.loc[text, 'noun']"
   ]
  },
  {
   "cell_type": "code",
   "execution_count": null,
   "metadata": {},
   "outputs": [],
   "source": [
    "dimension2_scores=[]\n",
    "for text in text_list:\n",
    "    dimension2_scores.append(dimension2(text))"
   ]
  },
  {
   "cell_type": "code",
   "execution_count": null,
   "metadata": {},
   "outputs": [],
   "source": [
    "def dimension3(text): \n",
    "    return stats.loc[text, 'lexical_density']+\\\n",
    "stats.loc[text, 'NOMZ']+\\\n",
    "stats.loc[text, 'disyllabic_words']+\\\n",
    "stats.loc[text, 'HSK_6']+stats.loc[text, 'abstract']+\\\n",
    "stats.loc[text, 'PHC']+stats.loc[text, 'nn']+\\\n",
    "stats.loc[text, 'aux_adj']+stats.loc[text, 'AWL']+\\\n",
    "stats.loc[text, 'BPIN']-stats.loc[text, 'classifier']-\\\n",
    "stats.loc[text, 'person']-stats.loc[text, 'mono_verbs']\\\n",
    "-stats.loc[text, 'unique']"
   ]
  },
  {
   "cell_type": "code",
   "execution_count": null,
   "metadata": {},
   "outputs": [],
   "source": [
    "dimension3_scores=[]\n",
    "for text in text_list:\n",
    "    dimension3_scores.append(dimension3(text))"
   ]
  },
  {
   "cell_type": "code",
   "execution_count": null,
   "metadata": {},
   "outputs": [],
   "source": [
    "def dimension4(text): \n",
    "    return stats.loc[text, 'modify_marker_di']+\\\n",
    "stats.loc[text, 'imperfect_aspect']+stats.loc[text, 'descriptive']+\\\n",
    "stats.loc[text, 'similie']+stats.loc[text, 'PEAS']+stats.loc[text, 'TPP']+stats.loc[text, 'SMP']+\\\n",
    "stats.loc[text, 'modify_marker_de']"
   ]
  },
  {
   "cell_type": "code",
   "execution_count": null,
   "metadata": {},
   "outputs": [],
   "source": [
    "dimension4_scores=[]\n",
    "for text in text_list:\n",
    "    dimension4_scores.append(dimension4(text))"
   ]
  },
  {
   "cell_type": "code",
   "execution_count": null,
   "metadata": {},
   "outputs": [],
   "source": [
    "def dimension5(text): \n",
    "    return stats.loc[text, 'english']+stats.loc[text, 'ACL_std']+stats.loc[text, 'ACL']+stats.loc[text, 'ASL']"
   ]
  },
  {
   "cell_type": "code",
   "execution_count": null,
   "metadata": {},
   "outputs": [],
   "source": [
    "dimension5_scores=[]\n",
    "for text in text_list:\n",
    "    dimension5_scores.append(dimension5(text))"
   ]
  },
  {
   "cell_type": "code",
   "execution_count": null,
   "metadata": {},
   "outputs": [],
   "source": [
    "d = {'dimension1':dimension1_scores, 'dimension2':dimension2_scores,\\\n",
    "    'dimension3':dimension3_scores, 'dimension4':dimension4_scores,\\\n",
    "    'dimension5':dimension5_scores}"
   ]
  },
  {
   "cell_type": "code",
   "execution_count": null,
   "metadata": {},
   "outputs": [],
   "source": [
    "df = pd.DataFrame(data=d)"
   ]
  },
  {
   "cell_type": "code",
   "execution_count": null,
   "metadata": {},
   "outputs": [],
   "source": [
    "with open('your_path/dimension_scores.csv', 'a') as f:\n",
    "             df.to_csv(f, header=True)"
   ]
  }
 ],
 "metadata": {
  "kernelspec": {
   "display_name": "Python 3",
   "language": "python",
   "name": "python3"
  },
  "language_info": {
   "codemirror_mode": {
    "name": "ipython",
    "version": 3
   },
   "file_extension": ".py",
   "mimetype": "text/x-python",
   "name": "python",
   "nbconvert_exporter": "python",
   "pygments_lexer": "ipython3",
   "version": "3.6.3"
  }
 },
 "nbformat": 4,
 "nbformat_minor": 2
}
